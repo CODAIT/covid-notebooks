{
 "cells": [
  {
   "cell_type": "markdown",
   "metadata": {
    "papermill": {
     "duration": 0.01584,
     "end_time": "2020-09-17T18:53:37.430465",
     "exception": false,
     "start_time": "2020-09-17T18:53:37.414625",
     "status": "completed"
    },
    "tags": []
   },
   "source": [
    "# maps_us_data.ipynb\n",
    "\n",
    "Display interactive maps of the most recent COVID-19 statistics with and without normalization by population.\n",
    "\n",
    "Inputs:\n",
    "* `outputs/us_counties_clean.csv`: The contents of `data/us_counties.csv` after data cleaning by [clean_us_data.ipynb](./clean_us_data.ipynb)\n",
    "* `outputs/us_counties_clean_meta.json`: Column type metadata for reading `data/us_counties_clean.csv` with `pd.read_csv()`\n",
    "* [U.S. map in GeoJSON format, from Plotly](https://raw.githubusercontent.com/plotly/datasets/master/geojson-counties-fips.json)\n",
    "\n",
    "**Note:** You can redirect these input files by setting the environment variable `COVID_OUTPUTS_DIR` to a replacement for the prefix `outputs` in the above paths."
   ]
  },
  {
   "cell_type": "code",
   "execution_count": null,
   "metadata": {
    "papermill": {
     "duration": 0.790054,
     "end_time": "2020-09-17T18:53:38.230665",
     "exception": false,
     "start_time": "2020-09-17T18:53:37.440611",
     "status": "completed"
    },
    "tags": []
   },
   "outputs": [],
   "source": [
    "# Initialization boilerplate\n",
    "import os\n",
    "import json\n",
    "import pandas as pd\n",
    "import numpy as np\n",
    "from urllib.request import urlopen\n",
    "from typing import *\n",
    "\n",
    "import text_extensions_for_pandas as tp\n",
    "\n",
    "# Local file of utility functions\n",
    "import util\n",
    "\n",
    "# Allow environment variables to override data file locations.\n",
    "_OUTPUTS_DIR = os.getenv(\"COVID_OUTPUTS_DIR\", \"outputs\")\n",
    "util.ensure_dir_exists(_OUTPUTS_DIR)  # create if necessary"
   ]
  },
  {
   "cell_type": "code",
   "execution_count": null,
   "metadata": {
    "papermill": {
     "duration": 0.846734,
     "end_time": "2020-09-17T18:53:39.087594",
     "exception": false,
     "start_time": "2020-09-17T18:53:38.240860",
     "status": "completed"
    },
    "tags": []
   },
   "outputs": [],
   "source": [
    "# Read in the CSV file and apply the saved type information\n",
    "csv_file = os.path.join(_OUTPUTS_DIR, \"us_counties_clean.csv\")\n",
    "meta_file = os.path.join(_OUTPUTS_DIR, \"us_counties_clean_meta.json\")\n",
    "\n",
    "# Read column type metadata\n",
    "with open(meta_file) as f:\n",
    "    cases_meta = json.load(f)\n",
    "\n",
    "# Pandas does not currently support parsing datetime64 from CSV files.\n",
    "# As a workaround, read the \"Date\" column as objects and manually \n",
    "# convert after.\n",
    "cases_meta[\"Date\"] = \"object\"\n",
    "\n",
    "cases_vertical = (\n",
    "    pd\n",
    "    .read_csv(csv_file, dtype=cases_meta, parse_dates=[\"Date\"])   \n",
    "    .set_index([\"FIPS\", \"Date\"], verify_integrity=True)\n",
    ")\n",
    "cases_vertical"
   ]
  },
  {
   "cell_type": "code",
   "execution_count": null,
   "metadata": {
    "papermill": {
     "duration": 0.0381,
     "end_time": "2020-09-17T18:53:39.137980",
     "exception": false,
     "start_time": "2020-09-17T18:53:39.099880",
     "status": "completed"
    },
    "tags": []
   },
   "outputs": [],
   "source": [
    "# As a workaround for a bug in Pandas' extension types system,\n",
    "# we need to cast the boolean columns to ints.\n",
    "for col in [\"Confirmed_Outlier\", \"Deaths_Outlier\", \"Recovered_Outlier\"]:\n",
    "    cases_vertical[col] = cases_vertical[col].astype(np.int8)\n",
    "cases_vertical"
   ]
  },
  {
   "cell_type": "code",
   "execution_count": null,
   "metadata": {
    "papermill": {
     "duration": 51.091297,
     "end_time": "2020-09-17T18:54:30.241718",
     "exception": false,
     "start_time": "2020-09-17T18:53:39.150421",
     "status": "completed"
    },
    "tags": []
   },
   "outputs": [],
   "source": [
    "# Use Text Extensions for Pandas to collapse each time series or mask down to a single cell\n",
    "cases, dates = util.collapse_time_series(cases_vertical, [\n",
    "    \"Confirmed\", \"Deaths\", \"Recovered\", \n",
    "    \"Confirmed_Outlier\", \"Deaths_Outlier\", \"Recovered_Outlier\"])\n",
    "cases"
   ]
  },
  {
   "cell_type": "code",
   "execution_count": null,
   "metadata": {
    "papermill": {
     "duration": 0.161504,
     "end_time": "2020-09-17T18:54:30.414660",
     "exception": false,
     "start_time": "2020-09-17T18:54:30.253156",
     "status": "completed"
    },
    "tags": []
   },
   "outputs": [],
   "source": [
    "# Normalize the Confirmed and Deaths counts by population.\n",
    "cases[\"Confirmed_per_100\"] =  100.0 * cases[\"Confirmed\"].array / cases[\"Population\"].values.reshape(-1,1)\n",
    "cases[\"Deaths_per_100\"] = 100.0 * cases[\"Deaths\"].array / cases[\"Population\"].values.reshape(-1,1)\n",
    "\n",
    "cases"
   ]
  },
  {
   "cell_type": "code",
   "execution_count": null,
   "metadata": {
    "papermill": {
     "duration": 0.033908,
     "end_time": "2020-09-17T18:54:30.460911",
     "exception": false,
     "start_time": "2020-09-17T18:54:30.427003",
     "status": "completed"
    },
    "tags": []
   },
   "outputs": [],
   "source": [
    "# Slice off the last element of each time series\n",
    "latest_cases = cases[[\"State\", \"County\", \"Population\"]].copy()\n",
    "for col in [\"Confirmed\", \"Confirmed_per_100\", \"Deaths\", \"Deaths_per_100\"]:\n",
    "    latest_cases[col] = cases[col].array._tensor[:,-1]\n",
    "latest_cases"
   ]
  },
  {
   "cell_type": "code",
   "execution_count": null,
   "metadata": {
    "papermill": {
     "duration": 0.038013,
     "end_time": "2020-09-17T18:54:30.513714",
     "exception": false,
     "start_time": "2020-09-17T18:54:30.475701",
     "status": "completed"
    },
    "tags": []
   },
   "outputs": [],
   "source": [
    "# Also show totals in the last week\n",
    "cases_this_week = cases[[\"State\", \"County\", \"Population\"]].copy()\n",
    "for col in [\"Confirmed\", \"Confirmed_per_100\", \"Deaths\", \"Deaths_per_100\"]:\n",
    "    cases_this_week[col] = cases[col].array._tensor[:,-1] - cases[col].array._tensor[:,-8]\n",
    "cases_this_week"
   ]
  },
  {
   "cell_type": "code",
   "execution_count": null,
   "metadata": {
    "papermill": {
     "duration": 0.577427,
     "end_time": "2020-09-17T18:54:31.106875",
     "exception": false,
     "start_time": "2020-09-17T18:54:30.529448",
     "status": "completed"
    },
    "tags": []
   },
   "outputs": [],
   "source": [
    "# Download a U.S. map in GEOJSON format\n",
    "with urlopen('https://raw.githubusercontent.com/plotly/datasets/master/geojson-counties-fips.json') as response:\n",
    "    counties = json.load(response)"
   ]
  },
  {
   "cell_type": "code",
   "execution_count": null,
   "metadata": {
    "papermill": {
     "duration": 0.140368,
     "end_time": "2020-09-17T18:54:31.263196",
     "exception": false,
     "start_time": "2020-09-17T18:54:31.122828",
     "status": "completed"
    },
    "tags": []
   },
   "outputs": [],
   "source": [
    "# Common code to generate choropleth maps.\n",
    "# NOTE: In order for this to work you need the JupyterLab extensions for Plotly:\n",
    "#   > jupyter labextension install jupyterlab-plotly\n",
    "# (env.sh will run the above command for you)\n",
    "\n",
    "import plotly.express as px\n",
    "\n",
    "def draw_map(df, col_name, label_str):\n",
    "    # Each series may have NAs in different locations\n",
    "    valid_data = df[~df[col_name].isna()]\n",
    "    \n",
    "    fig = px.choropleth(valid_data, geojson=counties, \n",
    "                        locations=[\"{:05d}\".format(f) for f in valid_data.index],\n",
    "                        color=col_name,\n",
    "                        # See https://plotly.com/python/builtin-colorscales/\n",
    "                        color_continuous_scale=\"viridis\",\n",
    "                        # Top of scale == 95th percentile\n",
    "                        range_color=(0, valid_data[col_name].quantile(0.95)),\n",
    "                        scope=\"usa\",\n",
    "                        labels={col_name: label_str},\n",
    "                        hover_name=valid_data[\"County\"],\n",
    "                        title=label_str)\n",
    "    fig.update_layout(margin={\"r\":0,\"t\":0,\"l\":0,\"b\":0})\n",
    "    fig.show()\n",
    "    \n"
   ]
  },
  {
   "cell_type": "code",
   "execution_count": null,
   "metadata": {
    "papermill": {
     "duration": 5.242187,
     "end_time": "2020-09-17T18:54:36.520214",
     "exception": false,
     "start_time": "2020-09-17T18:54:31.278027",
     "status": "completed"
    },
    "tags": []
   },
   "outputs": [],
   "source": [
    "# Draw a map of number of confirmed cases by county.\n",
    "# Yellow == 95th percentile\n",
    "draw_map(latest_cases, \"Confirmed\", \"Confirmed Cases \")"
   ]
  },
  {
   "cell_type": "code",
   "execution_count": null,
   "metadata": {
    "papermill": {
     "duration": 6.415411,
     "end_time": "2020-09-17T18:54:44.653925",
     "exception": false,
     "start_time": "2020-09-17T18:54:38.238514",
     "status": "completed"
    },
    "tags": []
   },
   "outputs": [],
   "source": [
    "# Draw a map of number of confirmed cases in the past 7 days by county.\n",
    "# Yellow == 95th percentile\n",
    "draw_map(cases_this_week, \"Confirmed\", \"Confirmed Cases this Week\")"
   ]
  },
  {
   "cell_type": "code",
   "execution_count": null,
   "metadata": {
    "papermill": {
     "duration": 7.643647,
     "end_time": "2020-09-17T18:54:55.598275",
     "exception": false,
     "start_time": "2020-09-17T18:54:47.954628",
     "status": "completed"
    },
    "tags": []
   },
   "outputs": [],
   "source": [
    "# Draw a map of number of confirmed cases in the last week per 100 residents by county\n",
    "# Yellow == 95th percentile\n",
    "draw_map(cases_this_week, \"Confirmed_per_100\", \"Confirmed per 100 this Week\")"
   ]
  },
  {
   "cell_type": "code",
   "execution_count": null,
   "metadata": {
    "papermill": {
     "duration": 9.484613,
     "end_time": "2020-09-17T18:55:09.866809",
     "exception": false,
     "start_time": "2020-09-17T18:55:00.382196",
     "status": "completed"
    },
    "tags": []
   },
   "outputs": [],
   "source": [
    "# Draw a map of number of deaths per 100 residents by county\n",
    "# Yellow == 95th percentile\n",
    "draw_map(cases_this_week, \"Deaths_per_100\", \"Deaths per 100 this Week\")"
   ]
  },
  {
   "cell_type": "code",
   "execution_count": null,
   "metadata": {
    "papermill": {
     "duration": 6.482546,
     "end_time": "2020-09-17T18:55:22.822854",
     "exception": false,
     "start_time": "2020-09-17T18:55:16.340308",
     "status": "completed"
    },
    "tags": []
   },
   "outputs": [],
   "source": [
    "# Draw a map of number of confirmed cases per 100 residents by county\n",
    "# Yellow == 95th percentile\n",
    "#draw_map(latest_cases, \"Confirmed_per_100\", \"Confirmed per 100\")"
   ]
  },
  {
   "cell_type": "code",
   "execution_count": null,
   "metadata": {
    "papermill": {
     "duration": 6.678578,
     "end_time": "2020-09-17T18:55:35.849557",
     "exception": false,
     "start_time": "2020-09-17T18:55:29.170979",
     "status": "completed"
    },
    "tags": []
   },
   "outputs": [],
   "source": [
    "# Draw a map of number of deaths by county\n",
    "# Yellow == 95th percentile\n",
    "#draw_map(latest_cases, \"Deaths\", \"Total Deaths  \")"
   ]
  },
  {
   "cell_type": "code",
   "execution_count": null,
   "metadata": {
    "papermill": {
     "duration": 6.131325,
     "end_time": "2020-09-17T18:55:48.345724",
     "exception": false,
     "start_time": "2020-09-17T18:55:42.214399",
     "status": "completed"
    },
    "tags": []
   },
   "outputs": [],
   "source": [
    "# Draw a map of number of deaths per 100 residents by county\n",
    "# Yellow == 95th percentile\n",
    "#draw_map(latest_cases, \"Deaths_per_100\", \"Deaths per 100\")"
   ]
  },
  {
   "cell_type": "code",
   "execution_count": null,
   "metadata": {
    "papermill": {
     "duration": 6.313631,
     "end_time": "2020-09-17T18:56:01.142087",
     "exception": false,
     "start_time": "2020-09-17T18:55:54.828456",
     "status": "completed"
    },
    "tags": []
   },
   "outputs": [],
   "source": []
  }
 ],
 "metadata": {
  "kernelspec": {
   "display_name": "Python 3",
   "language": "python",
   "name": "python3"
  },
  "language_info": {
   "codemirror_mode": {
    "name": "ipython",
    "version": 3
   },
   "file_extension": ".py",
   "mimetype": "text/x-python",
   "name": "python",
   "nbconvert_exporter": "python",
   "pygments_lexer": "ipython3",
   "version": "3.7.9"
  },
  "papermill": {
   "duration": 152.495352,
   "end_time": "2020-09-17T18:56:08.142885",
   "environment_variables": {},
   "exception": null,
   "input_path": "/Users/freiss/pd/cn-demo2/notebooks/maps_us_data.ipynb",
   "output_path": "/Users/freiss/pd/cn-demo2/notebooks/maps_us_data.ipynb",
   "parameters": {},
   "start_time": "2020-09-17T18:53:35.647533",
   "version": "2.1.3"
  }
 },
 "nbformat": 4,
 "nbformat_minor": 4
}
