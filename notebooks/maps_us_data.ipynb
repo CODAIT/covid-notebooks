{
 "cells": [
  {
   "cell_type": "markdown",
   "metadata": {
    "papermill": {
     "duration": 0.012934,
     "end_time": "2020-11-24T17:15:53.567689",
     "exception": false,
     "start_time": "2020-11-24T17:15:53.554755",
     "status": "completed"
    },
    "tags": []
   },
   "source": [
    "# maps_us_data.ipynb\n",
    "\n",
    "Display interactive maps of the most recent COVID-19 statistics with and without normalization by population.\n",
    "\n",
    "Inputs:\n",
    "* `outputs/us_counties_clean.csv`: The contents of `data/us_counties.csv` after data cleaning by [clean_us_data.ipynb](./clean_us_data.ipynb)\n",
    "* `outputs/us_counties_clean_meta.json`: Column type metadata for reading `data/us_counties_clean.csv` with `pd.read_csv()`\n",
    "* [U.S. map in GeoJSON format, from Plotly](https://raw.githubusercontent.com/plotly/datasets/master/geojson-counties-fips.json)\n",
    "\n",
    "**Note:** You can redirect these input files by setting the environment variable `COVID_OUTPUTS_DIR` to a replacement for the prefix `outputs` in the above paths."
   ]
  },
  {
   "cell_type": "code",
   "execution_count": null,
   "metadata": {
    "papermill": {
     "duration": 0.875219,
     "end_time": "2020-11-24T17:15:54.452805",
     "exception": false,
     "start_time": "2020-11-24T17:15:53.577586",
     "status": "completed"
    },
    "tags": []
   },
   "outputs": [],
   "source": [
    "# Initialization boilerplate\n",
    "import os\n",
    "import json\n",
    "import pandas as pd\n",
    "import numpy as np\n",
    "from urllib.request import urlopen\n",
    "from typing import *\n",
    "\n",
    "import text_extensions_for_pandas as tp\n",
    "\n",
    "# Local file of utility functions\n",
    "import util\n",
    "\n",
    "# Allow environment variables to override data file locations.\n",
    "_OUTPUTS_DIR = os.getenv(\"COVID_OUTPUTS_DIR\", \"outputs\")\n",
    "util.ensure_dir_exists(_OUTPUTS_DIR)  # create if necessary"
   ]
  },
  {
   "cell_type": "code",
   "execution_count": null,
   "metadata": {
    "papermill": {
     "duration": 0.127374,
     "end_time": "2020-11-24T17:15:54.594679",
     "exception": false,
     "start_time": "2020-11-24T17:15:54.467305",
     "status": "completed"
    },
    "tags": []
   },
   "outputs": [],
   "source": [
    "# Read time series data from the binary file that clean_us_data.ipynb produces\n",
    "dates_file = os.path.join(_OUTPUTS_DIR, \"dates.feather\")\n",
    "cases_file = os.path.join(_OUTPUTS_DIR, \"us_counties_clean.feather\")\n",
    "cases = pd.read_feather(cases_file).set_index(\"FIPS\")\n",
    "dates = pd.read_feather(dates_file)[\"date\"].to_numpy()\n",
    "cases.head()"
   ]
  },
  {
   "cell_type": "code",
   "execution_count": null,
   "metadata": {
    "papermill": {
     "duration": 0.206431,
     "end_time": "2020-11-24T17:15:54.814479",
     "exception": false,
     "start_time": "2020-11-24T17:15:54.608048",
     "status": "completed"
    },
    "tags": []
   },
   "outputs": [],
   "source": [
    "# Normalize the Confirmed and Deaths counts by population.\n",
    "cases[\"Confirmed_per_100\"] =  100.0 * cases[\"Confirmed\"].array / cases[\"Population\"].values.reshape(-1,1)\n",
    "cases[\"Deaths_per_100\"] = 100.0 * cases[\"Deaths\"].array / cases[\"Population\"].values.reshape(-1,1)\n",
    "\n",
    "cases"
   ]
  },
  {
   "cell_type": "code",
   "execution_count": null,
   "metadata": {
    "papermill": {
     "duration": 0.030776,
     "end_time": "2020-11-24T17:15:54.855275",
     "exception": false,
     "start_time": "2020-11-24T17:15:54.824499",
     "status": "completed"
    },
    "tags": []
   },
   "outputs": [],
   "source": [
    "# Slice off the last element of each time series\n",
    "latest_cases = cases[[\"State\", \"County\", \"Population\"]].copy()\n",
    "for col in [\"Confirmed\", \"Confirmed_per_100\", \"Deaths\", \"Deaths_per_100\"]:\n",
    "    latest_cases[col] = cases[col].array._tensor[:,-1]\n",
    "latest_cases"
   ]
  },
  {
   "cell_type": "code",
   "execution_count": null,
   "metadata": {
    "papermill": {
     "duration": 0.033728,
     "end_time": "2020-11-24T17:15:54.899896",
     "exception": false,
     "start_time": "2020-11-24T17:15:54.866168",
     "status": "completed"
    },
    "tags": []
   },
   "outputs": [],
   "source": [
    "# Also show totals in the last week\n",
    "cases_this_week = cases[[\"State\", \"County\", \"Population\"]].copy()\n",
    "cases_this_week[\"Confirmed\"] = cases[\"Confirmed_7_Days\"]\n",
    "cases_this_week[\"Deaths\"] = cases[\"Deaths_7_Days\"]\n",
    "cases_this_week[\"Confirmed_per_100\"] = cases_this_week[\"Confirmed\"] / cases_this_week[\"Population\"]\n",
    "cases_this_week[\"Deaths_per_100\"] = cases_this_week[\"Deaths\"] / cases_this_week[\"Population\"]\n",
    "\n",
    "cases_this_week"
   ]
  },
  {
   "cell_type": "code",
   "execution_count": null,
   "metadata": {
    "papermill": {
     "duration": 3.618674,
     "end_time": "2020-11-24T17:15:58.530694",
     "exception": false,
     "start_time": "2020-11-24T17:15:54.912020",
     "status": "completed"
    },
    "tags": []
   },
   "outputs": [],
   "source": [
    "# Download a U.S. map in GEOJSON format\n",
    "with urlopen('https://raw.githubusercontent.com/plotly/datasets/master/geojson-counties-fips.json') as response:\n",
    "    counties = json.load(response)"
   ]
  },
  {
   "cell_type": "code",
   "execution_count": null,
   "metadata": {
    "papermill": {
     "duration": 0.139546,
     "end_time": "2020-11-24T17:15:58.683948",
     "exception": false,
     "start_time": "2020-11-24T17:15:58.544402",
     "status": "completed"
    },
    "tags": []
   },
   "outputs": [],
   "source": [
    "# Common code to generate choropleth maps.\n",
    "# NOTE: In order for this to work you need the JupyterLab extensions for Plotly:\n",
    "#   > jupyter labextension install jupyterlab-plotly\n",
    "# (env.sh will run the above command for you)\n",
    "\n",
    "import plotly.express as px\n",
    "\n",
    "def draw_map(df, col_name, label_str):\n",
    "    # Each series may have NAs in different locations\n",
    "    valid_data = df[~df[col_name].isna()]\n",
    "    \n",
    "    fig = px.choropleth(valid_data, geojson=counties, \n",
    "                        locations=[\"{:05d}\".format(f) for f in valid_data.index],\n",
    "                        color=col_name,\n",
    "                        # See https://plotly.com/python/builtin-colorscales/\n",
    "                        color_continuous_scale=\"viridis\",\n",
    "                        # Top of scale == 95th percentile\n",
    "                        range_color=(0, valid_data[col_name].quantile(0.95)),\n",
    "                        scope=\"usa\",\n",
    "                        labels={col_name: label_str},\n",
    "                        hover_name=valid_data[\"County\"],\n",
    "                        title=label_str)\n",
    "    fig.update_layout(margin={\"r\":0,\"t\":0,\"l\":0,\"b\":0})\n",
    "    fig.show()\n",
    "    \n"
   ]
  },
  {
   "cell_type": "code",
   "execution_count": null,
   "metadata": {
    "papermill": {
     "duration": 4.620103,
     "end_time": "2020-11-24T17:16:03.317051",
     "exception": false,
     "start_time": "2020-11-24T17:15:58.696948",
     "status": "completed"
    },
    "tags": []
   },
   "outputs": [],
   "source": [
    "# Draw a map of number of confirmed cases by county.\n",
    "# Yellow == 95th percentile\n",
    "draw_map(latest_cases, \"Confirmed\", \"Confirmed Cases \")"
   ]
  },
  {
   "cell_type": "code",
   "execution_count": null,
   "metadata": {
    "papermill": {
     "duration": 6.375389,
     "end_time": "2020-11-24T17:16:11.391606",
     "exception": false,
     "start_time": "2020-11-24T17:16:05.016217",
     "status": "completed"
    },
    "tags": []
   },
   "outputs": [],
   "source": [
    "# Draw a map of number of confirmed cases in the past 7 days by county.\n",
    "# Yellow == 95th percentile\n",
    "draw_map(cases_this_week, \"Confirmed\", \"Confirmed Cases this Week\")"
   ]
  },
  {
   "cell_type": "code",
   "execution_count": null,
   "metadata": {
    "papermill": {
     "duration": 7.669647,
     "end_time": "2020-11-24T17:16:22.787986",
     "exception": false,
     "start_time": "2020-11-24T17:16:15.118339",
     "status": "completed"
    },
    "tags": []
   },
   "outputs": [],
   "source": [
    "# Draw a map of number of confirmed cases in the last week per 100 residents by county\n",
    "# Yellow == 95th percentile\n",
    "draw_map(cases_this_week, \"Confirmed_per_100\", \"Confirmed per 100 this Week\")"
   ]
  },
  {
   "cell_type": "code",
   "execution_count": null,
   "metadata": {
    "papermill": {
     "duration": 8.576205,
     "end_time": "2020-11-24T17:16:36.812803",
     "exception": false,
     "start_time": "2020-11-24T17:16:28.236598",
     "status": "completed"
    },
    "tags": []
   },
   "outputs": [],
   "source": [
    "# Draw a map of number of deaths per 100 residents by county\n",
    "# Yellow == 95th percentile\n",
    "draw_map(cases_this_week, \"Deaths_per_100\", \"Deaths per 100 this Week\")"
   ]
  },
  {
   "cell_type": "code",
   "execution_count": null,
   "metadata": {
    "papermill": {
     "duration": 6.244214,
     "end_time": "2020-11-24T17:16:49.763036",
     "exception": false,
     "start_time": "2020-11-24T17:16:43.518822",
     "status": "completed"
    },
    "tags": []
   },
   "outputs": [],
   "source": [
    "# Draw a map of number of confirmed cases per 100 residents by county\n",
    "# Yellow == 95th percentile\n",
    "#draw_map(latest_cases, \"Confirmed_per_100\", \"Confirmed per 100\")"
   ]
  },
  {
   "cell_type": "code",
   "execution_count": null,
   "metadata": {
    "papermill": {
     "duration": 6.226335,
     "end_time": "2020-11-24T17:17:02.487970",
     "exception": false,
     "start_time": "2020-11-24T17:16:56.261635",
     "status": "completed"
    },
    "tags": []
   },
   "outputs": [],
   "source": [
    "# Draw a map of number of deaths by county\n",
    "# Yellow == 95th percentile\n",
    "#draw_map(latest_cases, \"Deaths\", \"Total Deaths  \")"
   ]
  },
  {
   "cell_type": "code",
   "execution_count": null,
   "metadata": {
    "papermill": {
     "duration": 6.321548,
     "end_time": "2020-11-24T17:17:15.656517",
     "exception": false,
     "start_time": "2020-11-24T17:17:09.334969",
     "status": "completed"
    },
    "tags": []
   },
   "outputs": [],
   "source": [
    "# Draw a map of number of deaths per 100 residents by county\n",
    "# Yellow == 95th percentile\n",
    "#draw_map(latest_cases, \"Deaths_per_100\", \"Deaths per 100\")"
   ]
  },
  {
   "cell_type": "code",
   "execution_count": null,
   "metadata": {
    "papermill": {
     "duration": 6.473116,
     "end_time": "2020-11-24T17:17:28.889339",
     "exception": false,
     "start_time": "2020-11-24T17:17:22.416223",
     "status": "completed"
    },
    "tags": []
   },
   "outputs": [],
   "source": []
  }
 ],
 "metadata": {
  "kernelspec": {
   "display_name": "Python 3",
   "language": "python",
   "name": "python3"
  },
  "language_info": {
   "codemirror_mode": {
    "name": "ipython",
    "version": 3
   },
   "file_extension": ".py",
   "mimetype": "text/x-python",
   "name": "python",
   "nbconvert_exporter": "python",
   "pygments_lexer": "ipython3",
   "version": "3.7.9"
  },
  "papermill": {
   "duration": 103.2773,
   "end_time": "2020-11-24T17:17:35.813413",
   "environment_variables": {},
   "exception": null,
   "input_path": "/Users/freiss/pd/cn-update/notebooks/maps_us_data.ipynb",
   "output_path": "/Users/freiss/pd/cn-update/notebooks/maps_us_data.ipynb",
   "parameters": {},
   "start_time": "2020-11-24T17:15:52.536113",
   "version": "2.1.3"
  }
 },
 "nbformat": 4,
 "nbformat_minor": 4
}
