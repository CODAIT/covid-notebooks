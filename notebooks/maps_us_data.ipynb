{
 "cells": [
  {
   "cell_type": "markdown",
   "metadata": {},
   "source": [
    "# maps_us_data.ipynb\n",
    "\n",
    "Display interactive maps of the most recent COVID-19 statistics with and without normalization by population.\n",
    "\n",
    "Inputs:\n",
    "* `outputs/us_counties_clean.csv`: The contents of `data/us_counties.csv` after data cleaning by [clean_us_data.ipynb](./clean_us_data.ipynb)\n",
    "* `outputs/us_counties_clean_meta.json`: Column type metadata for reading `data/us_counties_clean.csv` with `pd.read_csv()`\n",
    "* [U.S. map in GeoJSON format, from Plotly](https://raw.githubusercontent.com/plotly/datasets/master/geojson-counties-fips.json)\n",
    "\n",
    "**Note:** You can redirect these input files by setting the environment variable `COVID_OUTPUTS_DIR` to a replacement for the prefix `outputs` in the above paths."
   ]
  },
  {
   "cell_type": "code",
   "execution_count": null,
   "metadata": {},
   "outputs": [],
   "source": [
    "# Initialization boilerplate\n",
    "import os\n",
    "import json\n",
    "import pandas as pd\n",
    "import numpy as np\n",
    "from urllib.request import urlopen\n",
    "from typing import *\n",
    "\n",
    "import text_extensions_for_pandas as tp\n",
    "\n",
    "# Local file of utility functions\n",
    "import util\n",
    "\n",
    "# Allow environment variables to override data file locations.\n",
    "_OUTPUTS_DIR = os.getenv(\"COVID_OUTPUTS_DIR\", \"outputs\")\n",
    "util.ensure_dir_exists(_OUTPUTS_DIR)  # create if necessary"
   ]
  },
  {
   "cell_type": "code",
   "execution_count": null,
   "metadata": {},
   "outputs": [],
   "source": [
    "# Read in the CSV file and apply the saved type information\n",
    "csv_file = os.path.join(_OUTPUTS_DIR, \"us_counties_clean.csv\")\n",
    "meta_file = os.path.join(_OUTPUTS_DIR, \"us_counties_clean_meta.json\")\n",
    "\n",
    "# Read column type metadata\n",
    "with open(meta_file) as f:\n",
    "    cases_meta = json.load(f)\n",
    "\n",
    "# Pandas does not currently support parsing datetime64 from CSV files.\n",
    "# As a workaround, read the \"Date\" column as objects and manually \n",
    "# convert after.\n",
    "cases_meta[\"Date\"] = \"object\"\n",
    "\n",
    "cases_vertical = pd.read_csv(csv_file, dtype=cases_meta, parse_dates=[\"Date\"])\n",
    "cases_vertical"
   ]
  },
  {
   "cell_type": "code",
   "execution_count": null,
   "metadata": {},
   "outputs": [],
   "source": [
    "# Slice off the last element of each time series.\n",
    "cases = cases_vertical[cases_vertical[\"Date\"] == cases_vertical[\"Date\"].max()].set_index(\"FIPS\")\n",
    "cases"
   ]
  },
  {
   "cell_type": "code",
   "execution_count": null,
   "metadata": {},
   "outputs": [],
   "source": [
    "# Normalize the Confirmed and Deaths counts by population.\n",
    "cases[\"confirmed_per_100\"] = cases[\"Confirmed\"] / cases[\"Population\"] * 100\n",
    "cases[\"deaths_per_100\"] = cases[\"Deaths\"] / cases[\"Population\"] * 100\n",
    "\n",
    "cases"
   ]
  },
  {
   "cell_type": "code",
   "execution_count": null,
   "metadata": {},
   "outputs": [],
   "source": [
    "# Download a U.S. map in GEOJSON format\n",
    "with urlopen('https://raw.githubusercontent.com/plotly/datasets/master/geojson-counties-fips.json') as response:\n",
    "    counties = json.load(response)"
   ]
  },
  {
   "cell_type": "code",
   "execution_count": null,
   "metadata": {},
   "outputs": [],
   "source": [
    "# Common code to generate choropleth maps.\n",
    "# NOTE: In order for this to work you need the JupyterLab extensions for Plotly:\n",
    "#   > jupyter labextension install jupyterlab-plotly\n",
    "# (env.sh will run the above command for you)\n",
    "\n",
    "import plotly.express as px\n",
    "\n",
    "def draw_map(col_name, label_str):\n",
    "    # Each series may have NAs in different locations\n",
    "    valid_data = cases[~cases[col_name].isna()]\n",
    "    \n",
    "    fig = px.choropleth(valid_data, geojson=counties, \n",
    "                        locations=[\"{:05d}\".format(f) for f in valid_data.index],\n",
    "                        color=col_name,\n",
    "                        # See https://plotly.com/python/builtin-colorscales/\n",
    "                        color_continuous_scale=\"viridis\",\n",
    "                        # Top of scale == 95th percentile\n",
    "                        range_color=(0, valid_data[col_name].quantile(0.95)),\n",
    "                        scope=\"usa\",\n",
    "                        labels={col_name: label_str},\n",
    "                        hover_name=valid_data[\"County\"],\n",
    "                        title=label_str)\n",
    "    fig.update_layout(margin={\"r\":0,\"t\":0,\"l\":0,\"b\":0})\n",
    "    fig.show()\n",
    "    \n"
   ]
  },
  {
   "cell_type": "code",
   "execution_count": null,
   "metadata": {},
   "outputs": [],
   "source": [
    "# Draw a map of number of confirmed cases by county.\n",
    "# Yellow == 95th percentile\n",
    "draw_map(\"Confirmed\", \"Confirmed Cases \")"
   ]
  },
  {
   "cell_type": "code",
   "execution_count": null,
   "metadata": {},
   "outputs": [],
   "source": [
    "# Draw a map of number of confirmed cases per 100 residents by county\n",
    "# Yellow == 95th percentile\n",
    "draw_map(\"confirmed_per_100\", \"Confirmed per 100\")"
   ]
  },
  {
   "cell_type": "code",
   "execution_count": null,
   "metadata": {},
   "outputs": [],
   "source": [
    "# Draw a map of number of deaths by county\n",
    "# Yellow == 95th percentile\n",
    "draw_map(\"Deaths\", \"Total Deaths  \")"
   ]
  },
  {
   "cell_type": "code",
   "execution_count": null,
   "metadata": {},
   "outputs": [],
   "source": [
    "# Draw a map of number of deaths per 100 residents by county\n",
    "# Yellow == 95th percentile\n",
    "draw_map(\"deaths_per_100\", \"Deaths per 100\")"
   ]
  },
  {
   "cell_type": "code",
   "execution_count": null,
   "metadata": {},
   "outputs": [],
   "source": []
  }
 ],
 "metadata": {
  "kernelspec": {
   "display_name": "Python 3",
   "language": "python",
   "name": "python3"
  },
  "language_info": {
   "codemirror_mode": {
    "name": "ipython",
    "version": 3
   },
   "file_extension": ".py",
   "mimetype": "text/x-python",
   "name": "python",
   "nbconvert_exporter": "python",
   "pygments_lexer": "ipython3",
   "version": "3.7.7"
  }
 },
 "nbformat": 4,
 "nbformat_minor": 4
}
